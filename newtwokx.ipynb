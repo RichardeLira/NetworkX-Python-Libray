{
 "cells": [
  {
   "cell_type": "code",
   "execution_count": 45,
   "metadata": {},
   "outputs": [],
   "source": [
    "from matplotlib import pyplot as plt \n",
    "import networkx as nx "
   ]
  },
  {
   "attachments": {},
   "cell_type": "markdown",
   "metadata": {},
   "source": [
    "##### Inicializando um Grafo"
   ]
  },
  {
   "cell_type": "code",
   "execution_count": 46,
   "metadata": {},
   "outputs": [],
   "source": [
    "G = nx.Graph()"
   ]
  },
  {
   "attachments": {},
   "cell_type": "markdown",
   "metadata": {},
   "source": [
    "##### Adiciona vérticies"
   ]
  },
  {
   "cell_type": "code",
   "execution_count": 47,
   "metadata": {},
   "outputs": [],
   "source": [
    "G.add_node('v1')\n",
    "G.add_node('v2')\n",
    "G.add_node('v3')\n",
    "G.add_node('v4')\n",
    "G.add_node('v5')"
   ]
  },
  {
   "attachments": {},
   "cell_type": "markdown",
   "metadata": {},
   "source": [
    "##### Adiciona as arestas"
   ]
  },
  {
   "cell_type": "code",
   "execution_count": 48,
   "metadata": {},
   "outputs": [],
   "source": [
    "G.add_edge('v1', 'v2')\n",
    "G.add_edge('v2', 'v3')\n",
    "G.add_edge('v3', 'v4')\n",
    "G.add_edge('v4', 'v5')\n",
    "G.add_edge('v5', 'v1')\n",
    "G.add_edge('v2', 'v4')"
   ]
  },
  {
   "cell_type": "code",
   "execution_count": 49,
   "metadata": {},
   "outputs": [
    {
     "name": "stdout",
     "output_type": "stream",
     "text": [
      "Lista de Vértices\n"
     ]
    },
    {
     "data": {
      "text/plain": [
       "NodeView(('v1', 'v2', 'v3', 'v4', 'v5'))"
      ]
     },
     "execution_count": 49,
     "metadata": {},
     "output_type": "execute_result"
    }
   ],
   "source": [
    "print('Lista de Vértices')\n",
    "G.nodes()"
   ]
  },
  {
   "cell_type": "code",
   "execution_count": 50,
   "metadata": {},
   "outputs": [
    {
     "name": "stdout",
     "output_type": "stream",
     "text": [
      "Lista de Arestas\n"
     ]
    },
    {
     "data": {
      "text/plain": [
       "EdgeView([('v1', 'v2'), ('v1', 'v5'), ('v2', 'v3'), ('v2', 'v4'), ('v3', 'v4'), ('v4', 'v5')])"
      ]
     },
     "execution_count": 50,
     "metadata": {},
     "output_type": "execute_result"
    }
   ],
   "source": [
    "print('Lista de Arestas')\n",
    "G.edges()"
   ]
  },
  {
   "cell_type": "code",
   "execution_count": 51,
   "metadata": {},
   "outputs": [
    {
     "name": "stdout",
     "output_type": "stream",
     "text": [
      "Lista de graus em G\n"
     ]
    },
    {
     "data": {
      "text/plain": [
       "DegreeView({'v1': 2, 'v2': 3, 'v3': 2, 'v4': 3, 'v5': 2})"
      ]
     },
     "execution_count": 51,
     "metadata": {},
     "output_type": "execute_result"
    }
   ],
   "source": [
    "print('Lista de graus em G')\n",
    "G.degree()"
   ]
  },
  {
   "attachments": {},
   "cell_type": "markdown",
   "metadata": {},
   "source": [
    "##### Consultando o grau de cada vertice"
   ]
  },
  {
   "cell_type": "code",
   "execution_count": 52,
   "metadata": {},
   "outputs": [
    {
     "name": "stdout",
     "output_type": "stream",
     "text": [
      "O grau do vertice v4 é 3\n"
     ]
    }
   ],
   "source": [
    "vertice = 'v4'\n",
    "\n",
    "print('O grau do vertice '+ vertice + \" é \"+ str(G.degree()[vertice]))"
   ]
  },
  {
   "attachments": {},
   "cell_type": "markdown",
   "metadata": {},
   "source": [
    "#### Construindo uma matriz que retorna as adjacências do grafo G\n",
    "#### A matriz gerada é uma matriz esparça para que seja economizada memória"
   ]
  },
  {
   "cell_type": "code",
   "execution_count": 53,
   "metadata": {},
   "outputs": [
    {
     "data": {
      "text/plain": [
       "array([[0, 1, 0, 0, 1],\n",
       "       [1, 0, 1, 1, 0],\n",
       "       [0, 1, 0, 1, 0],\n",
       "       [0, 1, 1, 0, 1],\n",
       "       [1, 0, 0, 1, 0]], dtype=int32)"
      ]
     },
     "execution_count": 53,
     "metadata": {},
     "output_type": "execute_result"
    }
   ],
   "source": [
    "A = nx.adjacency_matrix(G)\n",
    "A.todense()"
   ]
  },
  {
   "attachments": {},
   "cell_type": "markdown",
   "metadata": {},
   "source": [
    "##### Adicionar peso em cada aresta do grafo"
   ]
  },
  {
   "cell_type": "code",
   "execution_count": 54,
   "metadata": {},
   "outputs": [],
   "source": [
    "G['v1']['v2']['peso'] = 5\n",
    "G['v2']['v3']['peso'] = 10\n",
    "G['v3']['v4']['peso'] = 2\n",
    "G['v4']['v5']['peso'] = 7\n",
    "G['v5']['v1']['peso'] = 4\n",
    "G['v2']['v4']['peso'] = 8"
   ]
  },
  {
   "attachments": {},
   "cell_type": "markdown",
   "metadata": {},
   "source": [
    "##### Lista suas arestas com seus respectivos pesos "
   ]
  },
  {
   "cell_type": "code",
   "execution_count": 55,
   "metadata": {},
   "outputs": [
    {
     "name": "stdout",
     "output_type": "stream",
     "text": [
      "O peso da aresta ('v1', 'v2') vale  5\n",
      "O peso da aresta ('v1', 'v5') vale  4\n",
      "O peso da aresta ('v2', 'v3') vale  10\n",
      "O peso da aresta ('v2', 'v4') vale  8\n",
      "O peso da aresta ('v3', 'v4') vale  2\n",
      "O peso da aresta ('v4', 'v5') vale  7\n"
     ]
    }
   ],
   "source": [
    "for edge in G.edges():\n",
    "    u = edge[0]\n",
    "    v = edge[1]\n",
    "    print('O peso da aresta', edge, 'vale ', G[u][v]['peso'])"
   ]
  },
  {
   "attachments": {},
   "cell_type": "markdown",
   "metadata": {},
   "source": [
    "##### Plotando o gráfico do grafo construido"
   ]
  },
  {
   "cell_type": "code",
   "execution_count": 56,
   "metadata": {},
   "outputs": [
    {
     "data": {
      "image/png": "[encoded data removed]",
      "text/plain": [
       "<Figure size 640x480 with 1 Axes>"
      ]
     },
     "metadata": {},
     "output_type": "display_data"
    }
   ],
   "source": [
    "plt.figure(1)\n",
    "nx.draw_networkx(G, pos=nx.spring_layout(G), with_labels=True)\n",
    "plt.show()"
   ]
  }
 ],
 "metadata": {
  "kernelspec": {
   "display_name": "Python 3",
   "language": "python",
   "name": "python3"
  },
  "language_info": {
   "codemirror_mode": {
    "name": "ipython",
    "version": 3
   },
   "file_extension": ".py",
   "mimetype": "text/x-python",
   "name": "python",
   "nbconvert_exporter": "python",
   "pygments_lexer": "ipython3",
   "version": "3.11.3"
  },
  "orig_nbformat": 4
 },
 "nbformat": 4,
 "nbformat_minor": 2
}
