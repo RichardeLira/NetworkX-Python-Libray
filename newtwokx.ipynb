{
 "cells": [
  {
   "cell_type": "code",
   "execution_count": 10,
   "metadata": {},
   "outputs": [],
   "source": [
    "import numpy as np \n",
    "from matplotlib import pyplot as plt \n",
    "import networkx as nx \n"
   ]
  },
  {
   "cell_type": "code",
   "execution_count": 11,
   "metadata": {},
   "outputs": [],
   "source": [
    "G = nx.Graph()"
   ]
  },
  {
   "cell_type": "code",
   "execution_count": 12,
   "metadata": {},
   "outputs": [],
   "source": [
    "# Adiciona vérticies\n",
    "\n",
    "G.add_node('v1')\n",
    "G.add_node('v2')\n",
    "G.add_node('v3')\n",
    "G.add_node('v4')\n",
    "G.add_node('v5')"
   ]
  },
  {
   "cell_type": "code",
   "execution_count": 15,
   "metadata": {},
   "outputs": [],
   "source": [
    "# Adiciona as arestas \n",
    "\n",
    "G.add_edge('v1', 'v2')\n",
    "G.add_edge('v2', 'v3')\n",
    "G.add_edge('v3', 'v4')\n",
    "G.add_edge('v4', 'v5')\n",
    "G.add_edge('v5', 'v1')\n",
    "G.add_edge('v2', 'v4')"
   ]
  },
  {
   "cell_type": "code",
   "execution_count": 14,
   "metadata": {},
   "outputs": [
    {
     "name": "stdout",
     "output_type": "stream",
     "text": [
      "Lista de Vértices\n"
     ]
    },
    {
     "data": {
      "text/plain": [
       "NodeView(('v1', 'v2', 'v3', 'v4', 'v5'))"
      ]
     },
     "execution_count": 14,
     "metadata": {},
     "output_type": "execute_result"
    }
   ],
   "source": [
    "print('Lista de Vértices')\n",
    "G.nodes()"
   ]
  },
  {
   "cell_type": "code",
   "execution_count": 17,
   "metadata": {},
   "outputs": [
    {
     "name": "stdout",
     "output_type": "stream",
     "text": [
      "Lista de Arestas\n"
     ]
    },
    {
     "data": {
      "text/plain": [
       "EdgeView([('v1', 'v2'), ('v1', 'v5'), ('v2', 'v3'), ('v2', 'v4'), ('v3', 'v4'), ('v4', 'v5')])"
      ]
     },
     "execution_count": 17,
     "metadata": {},
     "output_type": "execute_result"
    }
   ],
   "source": [
    "print('Lista de Arestas')\n",
    "G.edges()"
   ]
  },
  {
   "cell_type": "code",
   "execution_count": 18,
   "metadata": {},
   "outputs": [
    {
     "name": "stdout",
     "output_type": "stream",
     "text": [
      "Lista de graus em G\n"
     ]
    },
    {
     "data": {
      "text/plain": [
       "DegreeView({'v1': 2, 'v2': 3, 'v3': 2, 'v4': 3, 'v5': 2})"
      ]
     },
     "execution_count": 18,
     "metadata": {},
     "output_type": "execute_result"
    }
   ],
   "source": [
    "print('Lista de graus em G')\n",
    "G.degree()"
   ]
  },
  {
   "cell_type": "code",
   "execution_count": 37,
   "metadata": {},
   "outputs": [
    {
     "name": "stdout",
     "output_type": "stream",
     "text": [
      "O grau do vertice v4 é 3\n"
     ]
    }
   ],
   "source": [
    "vertice = 'v4'\n",
    "\n",
    "print('O grau do vertice '+ vertice + \" é \"+ str(G.degree()[vertice]))"
   ]
  },
  {
   "cell_type": "code",
   "execution_count": 39,
   "metadata": {},
   "outputs": [
    {
     "data": {
      "text/plain": [
       "array([[0, 1, 0, 0, 1],\n",
       "       [1, 0, 1, 1, 0],\n",
       "       [0, 1, 0, 1, 0],\n",
       "       [0, 1, 1, 0, 1],\n",
       "       [1, 0, 0, 1, 0]], dtype=int32)"
      ]
     },
     "execution_count": 39,
     "metadata": {},
     "output_type": "execute_result"
    }
   ],
   "source": [
    "# Construindo uma matriz que retorna as adjacências do grafo G\n",
    "\n",
    "A = nx.adjacency_matrix(G)\n",
    "A.todense()"
   ]
  },
  {
   "cell_type": "code",
   "execution_count": 41,
   "metadata": {},
   "outputs": [],
   "source": [
    "# Adicionar peso em cada aresta do grafo\n",
    "\n",
    "G['v1']['v2']['peso'] = 5\n",
    "G['v2']['v3']['peso'] = 5\n",
    "G['v3']['v4']['peso'] = 5\n",
    "G['v4']['v5']['peso'] = 5\n",
    "G['v1']['v2']['peso'] = 5\n",
    "G['v1']['v2']['peso'] = 5"
   ]
  }
 ],
 "metadata": {
  "kernelspec": {
   "display_name": "Python 3",
   "language": "python",
   "name": "python3"
  },
  "language_info": {
   "codemirror_mode": {
    "name": "ipython",
    "version": 3
   },
   "file_extension": ".py",
   "mimetype": "text/x-python",
   "name": "python",
   "nbconvert_exporter": "python",
   "pygments_lexer": "ipython3",
   "version": "3.11.3"
  },
  "orig_nbformat": 4
 },
 "nbformat": 4,
 "nbformat_minor": 2
}
